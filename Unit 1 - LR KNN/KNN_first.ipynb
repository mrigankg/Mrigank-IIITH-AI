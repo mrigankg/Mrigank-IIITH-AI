{
 "cells": [
  {
   "cell_type": "code",
   "execution_count": 14,
   "metadata": {},
   "outputs": [
    {
     "name": "stdout",
     "output_type": "stream",
     "text": [
      "    User ID  Gender  Age  EstimatedSalary  Purchased\n",
      "0  15624510    Male   19            19000          0\n",
      "1  15810944    Male   35            20000          0\n",
      "2  15668575  Female   26            43000          0\n",
      "3  15603246  Female   27            57000          0\n",
      "4  15804002    Male   19            76000          0\n",
      "Non scaled KNN score  0.775\n",
      "Scaled score -  0.8833333333333333\n"
     ]
    }
   ],
   "source": [
    "import numpy as np\n",
    "import pandas as pd\n",
    "import sklearn.neighbors as skn\n",
    "import sklearn.model_selection as skms\n",
    "from sklearn.model_selection import train_test_split\n",
    "from sklearn.preprocessing import StandardScaler\n",
    "\n",
    "adv = pd.read_csv(\"data/social_advertising.csv\")\n",
    "print(adv.head());\n",
    "\n",
    "X = adv[['Age', 'EstimatedSalary']]\n",
    "y = adv['Purchased']\n",
    "\n",
    "X_train, X_test, y_train, y_test = train_test_split(X, y, test_size=0.3)    # 70% training and 30% test\n",
    "\n",
    "knn = skn.KNeighborsClassifier(n_neighbors=3)    \n",
    "knn.fit(X_train, y_train)   \n",
    "knn.predict(X_test) \n",
    "\n",
    "print(\"Non scaled KNN score \" , knn.score(X_test, y_test))  # Accuracy = .8166\n",
    "\n",
    "\n",
    "# Scale the values and test again - \n",
    "\n",
    "scale = StandardScaler()\n",
    "\n",
    "X_train_scale = scale.fit_transform(X_train);\n",
    "X_test_Scale = scale.fit_transform(X_test);\n",
    "\n",
    "knn.fit(X_train_scale, y_train)\n",
    "knn.predict(X_test_Scale)\n",
    "print(\"Scaled score - \",knn.score(X_test_Scale, y_test))  # Accuracy = .9250"
   ]
  }
 ],
 "metadata": {
  "kernelspec": {
   "display_name": "Python 3",
   "language": "python",
   "name": "python3"
  },
  "language_info": {
   "codemirror_mode": {
    "name": "ipython",
    "version": 3
   },
   "file_extension": ".py",
   "mimetype": "text/x-python",
   "name": "python",
   "nbconvert_exporter": "python",
   "pygments_lexer": "ipython3",
   "version": "3.11.9"
  }
 },
 "nbformat": 4,
 "nbformat_minor": 2
}
