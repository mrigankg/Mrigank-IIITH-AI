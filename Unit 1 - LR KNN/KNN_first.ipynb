{
 "cells": [
  {
   "cell_type": "code",
   "execution_count": null,
   "metadata": {},
   "outputs": [
    {
     "name": "stdout",
     "output_type": "stream",
     "text": [
      "    User ID  Gender  Age  EstimatedSalary  Purchased\n",
      "0  15624510    Male   19            19000          0\n",
      "1  15810944    Male   35            20000          0\n",
      "2  15668575  Female   26            43000          0\n",
      "3  15603246  Female   27            57000          0\n",
      "4  15804002    Male   19            76000          0\n",
      "Non scaled KNN score  0.8333333333333334\n",
      "Scaled predition :  [0 0 1 0 0 0 1 0 1 0 0 1 1 0 1 0 0 0 0 1 0 1 1 0 1 1 0 0 0 0 0 0 0 1 0 0 1\n",
      " 1 0 0 0 0 1 0 1 1 0 0 0 1 0 0 1 1 0 1 1 0 1 1 0 0 0 0 0 0 0 0 0 1 1 1 1 0\n",
      " 1 0 0 0 0 1 0 0 1 1 0 0 0 0 1 0 0 0 0 1 0 0 1 1 0 0 0 0 1 1 1 1 0 0 0 0 0\n",
      " 0 0 1 1 1 0 0 0 0]\n",
      "Scaled score -  0.825\n",
      "Accuracy score is :  0.825\n"
     ]
    },
    {
     "ename": "IndexError",
     "evalue": "only integers, slices (`:`), ellipsis (`...`), numpy.newaxis (`None`) and integer or boolean arrays are valid indices",
     "output_type": "error",
     "traceback": [
      "\u001b[1;31m---------------------------------------------------------------------------\u001b[0m",
      "\u001b[1;31mIndexError\u001b[0m                                Traceback (most recent call last)",
      "Cell \u001b[1;32mIn[63], line 38\u001b[0m\n\u001b[0;32m     35\u001b[0m \u001b[38;5;28mprint\u001b[39m(\u001b[38;5;124m\"\u001b[39m\u001b[38;5;124mScaled score - \u001b[39m\u001b[38;5;124m\"\u001b[39m,knn\u001b[38;5;241m.\u001b[39mscore(X_test_Scale, y_test))  \u001b[38;5;66;03m# Accuracy = .9250\u001b[39;00m\n\u001b[0;32m     36\u001b[0m \u001b[38;5;28mprint\u001b[39m(\u001b[38;5;124m\"\u001b[39m\u001b[38;5;124mAccuracy score is : \u001b[39m\u001b[38;5;124m\"\u001b[39m, accuracy_score(y_test, y_predict))  \u001b[38;5;66;03m# Accuracy = .9250\u001b[39;00m\n\u001b[1;32m---> 38\u001b[0m plt\u001b[38;5;241m.\u001b[39mscatter(\u001b[43mX_test_Scale\u001b[49m\u001b[43m[\u001b[49m\u001b[38;5;124;43m'\u001b[39;49m\u001b[38;5;124;43mAge\u001b[39;49m\u001b[38;5;124;43m'\u001b[39;49m\u001b[43m]\u001b[49m, X_test_Scale[\u001b[38;5;124m'\u001b[39m\u001b[38;5;124mEstimatedSalary\u001b[39m\u001b[38;5;124m'\u001b[39m], c\u001b[38;5;241m=\u001b[39my_test)\n\u001b[0;32m     39\u001b[0m plt\u001b[38;5;241m.\u001b[39mscatter(y_test, y_predict, c\u001b[38;5;241m=\u001b[39m\u001b[38;5;124m'\u001b[39m\u001b[38;5;124mred\u001b[39m\u001b[38;5;124m'\u001b[39m)\n\u001b[0;32m     40\u001b[0m plt\u001b[38;5;241m.\u001b[39mshow()\n",
      "\u001b[1;31mIndexError\u001b[0m: only integers, slices (`:`), ellipsis (`...`), numpy.newaxis (`None`) and integer or boolean arrays are valid indices"
     ]
    }
   ],
   "source": [
    "import numpy as np\n",
    "import pandas as pd\n",
    "import sklearn.neighbors as skn\n",
    "import sklearn.model_selection as skms\n",
    "from sklearn.model_selection import train_test_split\n",
    "from sklearn.preprocessing import StandardScaler\n",
    "from sklearn.metrics import accuracy_score\n",
    "from matplotlib import pyplot as plt\n",
    "\n",
    "adv = pd.read_csv(\"data/social_advertising.csv\")\n",
    "print(adv.head());\n",
    "\n",
    "X = adv[['Age', 'EstimatedSalary']]\n",
    "y = adv['Purchased']\n",
    "\n",
    "X_train, X_test, y_train, y_test = train_test_split(X, y, test_size=0.3)    # 70% training and 30% test\n",
    "\n",
    "knn = skn.KNeighborsClassifier(n_neighbors=3)    \n",
    "knn.fit(X_train, y_train)   \n",
    "knn.predict(X_test) \n",
    "\n",
    "print(\"Non scaled KNN score \" , knn.score(X_test, y_test))  # Accuracy = .8166\n",
    "\n",
    "\n",
    "# Scale the values and test again - \n",
    "\n",
    "scale = StandardScaler()\n",
    "\n",
    "X_train_scale = scale.fit_transform(X_train);\n",
    "X_test_Scale = scale.fit_transform(X_test);\n",
    "\n",
    "knn.fit(X_train_scale, y_train)\n",
    "y_predict = knn.predict(X_test_Scale)\n",
    "print(\"Scaled predition : \", knn.predict(X_test_Scale))\n",
    "print(\"Scaled score - \",knn.score(X_test_Scale, y_test))  # Accuracy = .9250\n",
    "print(\"Accuracy score is : \", accuracy_score(y_test, y_predict))  # Accuracy = .9250\n",
    "\n",
    "plt.scatter(X_test['Age'], X_test['EstimatedSalary'], c=y_test)\n",
    "plt.scatter(y_test, y_predict, c='red')\n",
    "plt.show()\n",
    "\n"
   ]
  }
 ],
 "metadata": {
  "kernelspec": {
   "display_name": "Python 3",
   "language": "python",
   "name": "python3"
  },
  "language_info": {
   "codemirror_mode": {
    "name": "ipython",
    "version": 3
   },
   "file_extension": ".py",
   "mimetype": "text/x-python",
   "name": "python",
   "nbconvert_exporter": "python",
   "pygments_lexer": "ipython3",
   "version": "3.11.9"
  }
 },
 "nbformat": 4,
 "nbformat_minor": 2
}
